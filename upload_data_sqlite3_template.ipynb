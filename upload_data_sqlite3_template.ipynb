{
 "cells": [
  {
   "cell_type": "markdown",
   "metadata": {
    "id": "AJmcl9XYAzVm"
   },
   "source": [
    "https://stackoverflow.com/a/59429952/4527289"
   ]
  },
  {
   "cell_type": "code",
   "execution_count": null,
   "metadata": {
    "colab": {
     "base_uri": "https://localhost:8080/"
    },
    "id": "J-LnkFGPMhnT",
    "outputId": "ad86717e-a5d8-41e0-8392-f2649575e57c"
   },
   "outputs": [
    {
     "name": "stderr",
     "output_type": "stream",
     "text": [
      "'gdown' is not recognized as an internal or external command,\n",
      "operable program or batch file.\n"
     ]
    }
   ],
   "source": [
    "!gdown --id 1BSHIKQ7rFw5BpTq5nw1UZfjPK_7Mpnbi\n",
    "!mv _sqlite3.cpython-37m-x86_64-linux-gnu.so /usr/lib/python3.7/lib-dynload/\n",
    "import os\n",
    "os.kill(os.getpid(), 9)"
   ]
  },
  {
   "cell_type": "code",
   "execution_count": 1,
   "metadata": {
    "id": "B0woZN3_ygZm"
   },
   "outputs": [],
   "source": [
    "import pandas as pd\n",
    "import numpy as np"
   ]
  },
  {
   "cell_type": "code",
   "execution_count": 2,
   "metadata": {
    "id": "aYI3J-NNylOv"
   },
   "outputs": [],
   "source": [
    "import sqlite3"
   ]
  },
  {
   "cell_type": "code",
   "execution_count": 3,
   "metadata": {
    "colab": {
     "base_uri": "https://localhost:8080/",
     "height": 35
    },
    "id": "3VmdT1puvS5U",
    "outputId": "5715eda3-ed94-453b-c847-d11c4c8a7420"
   },
   "outputs": [
    {
     "data": {
      "text/plain": [
       "'3.33.0'"
      ]
     },
     "execution_count": 3,
     "metadata": {},
     "output_type": "execute_result"
    }
   ],
   "source": [
    "sqlite3.sqlite_version"
   ]
  },
  {
   "cell_type": "code",
   "execution_count": 4,
   "metadata": {
    "id": "EYQd7e2Oypyb"
   },
   "outputs": [],
   "source": [
    "con = sqlite3.connect('db')"
   ]
  },
  {
   "cell_type": "markdown",
   "metadata": {
    "id": "K35cI3-bnw-m"
   },
   "source": [
    "https://drive.google.com/file/d/1Gj0qVU0Acv-HqRjTIEwvkO4TqJYijehR/view?usp=sharing"
   ]
  },
  {
   "cell_type": "code",
   "execution_count": 5,
   "metadata": {
    "colab": {
     "base_uri": "https://localhost:8080/"
    },
    "id": "wOAbF5SJn45l",
    "outputId": "a36a69de-5d77-4a53-e670-65bca25e65d4"
   },
   "outputs": [
    {
     "name": "stderr",
     "output_type": "stream",
     "text": [
      "'gdown' is not recognized as an internal or external command,\n",
      "operable program or batch file.\n"
     ]
    }
   ],
   "source": [
    "!gdown --id 1Gj0qVU0Acv-HqRjTIEwvkO4TqJYijehR"
   ]
  },
  {
   "cell_type": "code",
   "execution_count": 7,
   "metadata": {
    "id": "AoD1wrEkzRdk"
   },
   "outputs": [],
   "source": [
    "df = pd.read_csv(r'C:\\Users\\User\\Desktop\\j\\SQL-G\\german_credit_augmented.csv')"
   ]
  },
  {
   "cell_type": "code",
   "execution_count": 8,
   "metadata": {
    "colab": {
     "base_uri": "https://localhost:8080/",
     "height": 299
    },
    "id": "X6QLbv1bI8FJ",
    "outputId": "d3f19751-6d16-4933-9d5d-0d99cb69a485"
   },
   "outputs": [
    {
     "data": {
      "text/html": [
       "<div>\n",
       "<style scoped>\n",
       "    .dataframe tbody tr th:only-of-type {\n",
       "        vertical-align: middle;\n",
       "    }\n",
       "\n",
       "    .dataframe tbody tr th {\n",
       "        vertical-align: top;\n",
       "    }\n",
       "\n",
       "    .dataframe thead th {\n",
       "        text-align: right;\n",
       "    }\n",
       "</style>\n",
       "<table border=\"1\" class=\"dataframe\">\n",
       "  <thead>\n",
       "    <tr style=\"text-align: right;\">\n",
       "      <th></th>\n",
       "      <th>age</th>\n",
       "      <th>sex</th>\n",
       "      <th>job</th>\n",
       "      <th>housing</th>\n",
       "      <th>saving_accounts</th>\n",
       "      <th>checking_account</th>\n",
       "      <th>credit_amount</th>\n",
       "      <th>duration</th>\n",
       "      <th>purpose</th>\n",
       "      <th>default</th>\n",
       "      <th>contract_dt</th>\n",
       "      <th>client_id</th>\n",
       "    </tr>\n",
       "  </thead>\n",
       "  <tbody>\n",
       "    <tr>\n",
       "      <th>0</th>\n",
       "      <td>33</td>\n",
       "      <td>male</td>\n",
       "      <td>2</td>\n",
       "      <td>own</td>\n",
       "      <td>NaN</td>\n",
       "      <td>NaN</td>\n",
       "      <td>3074</td>\n",
       "      <td>9</td>\n",
       "      <td>radio/TV</td>\n",
       "      <td>0</td>\n",
       "      <td>2008-06-29 18:52:00</td>\n",
       "      <td>210</td>\n",
       "    </tr>\n",
       "    <tr>\n",
       "      <th>1</th>\n",
       "      <td>43</td>\n",
       "      <td>male</td>\n",
       "      <td>1</td>\n",
       "      <td>own</td>\n",
       "      <td>little</td>\n",
       "      <td>little</td>\n",
       "      <td>1344</td>\n",
       "      <td>12</td>\n",
       "      <td>car</td>\n",
       "      <td>0</td>\n",
       "      <td>2007-05-20 18:30:19</td>\n",
       "      <td>929</td>\n",
       "    </tr>\n",
       "    <tr>\n",
       "      <th>2</th>\n",
       "      <td>52</td>\n",
       "      <td>male</td>\n",
       "      <td>2</td>\n",
       "      <td>own</td>\n",
       "      <td>quite rich</td>\n",
       "      <td>NaN</td>\n",
       "      <td>936</td>\n",
       "      <td>9</td>\n",
       "      <td>education</td>\n",
       "      <td>0</td>\n",
       "      <td>2008-04-27 08:23:07</td>\n",
       "      <td>200</td>\n",
       "    </tr>\n",
       "    <tr>\n",
       "      <th>3</th>\n",
       "      <td>35</td>\n",
       "      <td>female</td>\n",
       "      <td>3</td>\n",
       "      <td>own</td>\n",
       "      <td>little</td>\n",
       "      <td>NaN</td>\n",
       "      <td>1393</td>\n",
       "      <td>11</td>\n",
       "      <td>car</td>\n",
       "      <td>0</td>\n",
       "      <td>2007-05-06 10:58:22</td>\n",
       "      <td>45</td>\n",
       "    </tr>\n",
       "    <tr>\n",
       "      <th>4</th>\n",
       "      <td>28</td>\n",
       "      <td>male</td>\n",
       "      <td>2</td>\n",
       "      <td>own</td>\n",
       "      <td>little</td>\n",
       "      <td>NaN</td>\n",
       "      <td>776</td>\n",
       "      <td>12</td>\n",
       "      <td>radio/TV</td>\n",
       "      <td>0</td>\n",
       "      <td>2007-07-21 13:22:14</td>\n",
       "      <td>358</td>\n",
       "    </tr>\n",
       "  </tbody>\n",
       "</table>\n",
       "</div>"
      ],
      "text/plain": [
       "   age     sex  job housing saving_accounts checking_account  credit_amount  \\\n",
       "0   33    male    2     own             NaN              NaN           3074   \n",
       "1   43    male    1     own          little           little           1344   \n",
       "2   52    male    2     own      quite rich              NaN            936   \n",
       "3   35  female    3     own          little              NaN           1393   \n",
       "4   28    male    2     own          little              NaN            776   \n",
       "\n",
       "   duration    purpose  default          contract_dt  client_id  \n",
       "0         9   radio/TV        0  2008-06-29 18:52:00        210  \n",
       "1        12        car        0  2007-05-20 18:30:19        929  \n",
       "2         9  education        0  2008-04-27 08:23:07        200  \n",
       "3        11        car        0  2007-05-06 10:58:22         45  \n",
       "4        12   radio/TV        0  2007-07-21 13:22:14        358  "
      ]
     },
     "execution_count": 8,
     "metadata": {},
     "output_type": "execute_result"
    }
   ],
   "source": [
    "df.head()"
   ]
  },
  {
   "cell_type": "code",
   "execution_count": 9,
   "metadata": {
    "id": "nPsAQK73u3q1"
   },
   "outputs": [],
   "source": [
    "df['contract_dt'] = pd.to_datetime(df['contract_dt'],format='%Y-%m-%d %H:%M:%S')"
   ]
  },
  {
   "cell_type": "code",
   "execution_count": 10,
   "metadata": {
    "colab": {
     "base_uri": "https://localhost:8080/"
    },
    "id": "rkwfAkA-vKyt",
    "outputId": "9c645a71-9515-4efc-91b4-785e358ab22d"
   },
   "outputs": [
    {
     "data": {
      "text/plain": [
       "age                          int64\n",
       "sex                         object\n",
       "job                          int64\n",
       "housing                     object\n",
       "saving_accounts             object\n",
       "checking_account            object\n",
       "credit_amount                int64\n",
       "duration                     int64\n",
       "purpose                     object\n",
       "default                      int64\n",
       "contract_dt         datetime64[ns]\n",
       "client_id                    int64\n",
       "dtype: object"
      ]
     },
     "execution_count": 10,
     "metadata": {},
     "output_type": "execute_result"
    }
   ],
   "source": [
    "df.dtypes"
   ]
  },
  {
   "cell_type": "code",
   "execution_count": 11,
   "metadata": {
    "id": "RxeA0lK_zdOt"
   },
   "outputs": [
    {
     "data": {
      "text/plain": [
       "1000"
      ]
     },
     "execution_count": 11,
     "metadata": {},
     "output_type": "execute_result"
    }
   ],
   "source": [
    "df.to_sql('german_credit',con,index=False,if_exists='replace')"
   ]
  },
  {
   "cell_type": "code",
   "execution_count": 12,
   "metadata": {},
   "outputs": [
    {
     "data": {
      "text/plain": [
       "(1000, 12)"
      ]
     },
     "execution_count": 12,
     "metadata": {},
     "output_type": "execute_result"
    }
   ],
   "source": [
    "df.shape"
   ]
  },
  {
   "cell_type": "code",
   "execution_count": 13,
   "metadata": {
    "id": "dzfrSzC05MJV"
   },
   "outputs": [],
   "source": [
    "def select(sql):\n",
    "  return pd.read_sql(sql,con)"
   ]
  },
  {
   "cell_type": "code",
   "execution_count": 14,
   "metadata": {
    "id": "WSTB-KE29uaF"
   },
   "outputs": [],
   "source": [
    "sql = '''select t.* from german_credit t limit 5'''"
   ]
  },
  {
   "cell_type": "code",
   "execution_count": 15,
   "metadata": {
    "colab": {
     "base_uri": "https://localhost:8080/",
     "height": 299
    },
    "id": "znqLeNeb5C-a",
    "outputId": "355d1071-7397-42ce-89a3-eaa26252d27d"
   },
   "outputs": [
    {
     "data": {
      "text/html": [
       "<div>\n",
       "<style scoped>\n",
       "    .dataframe tbody tr th:only-of-type {\n",
       "        vertical-align: middle;\n",
       "    }\n",
       "\n",
       "    .dataframe tbody tr th {\n",
       "        vertical-align: top;\n",
       "    }\n",
       "\n",
       "    .dataframe thead th {\n",
       "        text-align: right;\n",
       "    }\n",
       "</style>\n",
       "<table border=\"1\" class=\"dataframe\">\n",
       "  <thead>\n",
       "    <tr style=\"text-align: right;\">\n",
       "      <th></th>\n",
       "      <th>age</th>\n",
       "      <th>sex</th>\n",
       "      <th>job</th>\n",
       "      <th>housing</th>\n",
       "      <th>saving_accounts</th>\n",
       "      <th>checking_account</th>\n",
       "      <th>credit_amount</th>\n",
       "      <th>duration</th>\n",
       "      <th>purpose</th>\n",
       "      <th>default</th>\n",
       "      <th>contract_dt</th>\n",
       "      <th>client_id</th>\n",
       "    </tr>\n",
       "  </thead>\n",
       "  <tbody>\n",
       "    <tr>\n",
       "      <th>0</th>\n",
       "      <td>33</td>\n",
       "      <td>male</td>\n",
       "      <td>2</td>\n",
       "      <td>own</td>\n",
       "      <td>None</td>\n",
       "      <td>None</td>\n",
       "      <td>3074</td>\n",
       "      <td>9</td>\n",
       "      <td>radio/TV</td>\n",
       "      <td>0</td>\n",
       "      <td>2008-06-29 18:52:00</td>\n",
       "      <td>210</td>\n",
       "    </tr>\n",
       "    <tr>\n",
       "      <th>1</th>\n",
       "      <td>43</td>\n",
       "      <td>male</td>\n",
       "      <td>1</td>\n",
       "      <td>own</td>\n",
       "      <td>little</td>\n",
       "      <td>little</td>\n",
       "      <td>1344</td>\n",
       "      <td>12</td>\n",
       "      <td>car</td>\n",
       "      <td>0</td>\n",
       "      <td>2007-05-20 18:30:19</td>\n",
       "      <td>929</td>\n",
       "    </tr>\n",
       "    <tr>\n",
       "      <th>2</th>\n",
       "      <td>52</td>\n",
       "      <td>male</td>\n",
       "      <td>2</td>\n",
       "      <td>own</td>\n",
       "      <td>quite rich</td>\n",
       "      <td>None</td>\n",
       "      <td>936</td>\n",
       "      <td>9</td>\n",
       "      <td>education</td>\n",
       "      <td>0</td>\n",
       "      <td>2008-04-27 08:23:07</td>\n",
       "      <td>200</td>\n",
       "    </tr>\n",
       "    <tr>\n",
       "      <th>3</th>\n",
       "      <td>35</td>\n",
       "      <td>female</td>\n",
       "      <td>3</td>\n",
       "      <td>own</td>\n",
       "      <td>little</td>\n",
       "      <td>None</td>\n",
       "      <td>1393</td>\n",
       "      <td>11</td>\n",
       "      <td>car</td>\n",
       "      <td>0</td>\n",
       "      <td>2007-05-06 10:58:22</td>\n",
       "      <td>45</td>\n",
       "    </tr>\n",
       "    <tr>\n",
       "      <th>4</th>\n",
       "      <td>28</td>\n",
       "      <td>male</td>\n",
       "      <td>2</td>\n",
       "      <td>own</td>\n",
       "      <td>little</td>\n",
       "      <td>None</td>\n",
       "      <td>776</td>\n",
       "      <td>12</td>\n",
       "      <td>radio/TV</td>\n",
       "      <td>0</td>\n",
       "      <td>2007-07-21 13:22:14</td>\n",
       "      <td>358</td>\n",
       "    </tr>\n",
       "  </tbody>\n",
       "</table>\n",
       "</div>"
      ],
      "text/plain": [
       "   age     sex  job housing saving_accounts checking_account  credit_amount  \\\n",
       "0   33    male    2     own            None             None           3074   \n",
       "1   43    male    1     own          little           little           1344   \n",
       "2   52    male    2     own      quite rich             None            936   \n",
       "3   35  female    3     own          little             None           1393   \n",
       "4   28    male    2     own          little             None            776   \n",
       "\n",
       "   duration    purpose  default          contract_dt  client_id  \n",
       "0         9   radio/TV        0  2008-06-29 18:52:00        210  \n",
       "1        12        car        0  2007-05-20 18:30:19        929  \n",
       "2         9  education        0  2008-04-27 08:23:07        200  \n",
       "3        11        car        0  2007-05-06 10:58:22         45  \n",
       "4        12   radio/TV        0  2007-07-21 13:22:14        358  "
      ]
     },
     "execution_count": 15,
     "metadata": {},
     "output_type": "execute_result"
    }
   ],
   "source": [
    "select(sql)"
   ]
  }
 ],
 "metadata": {
  "colab": {
   "authorship_tag": "ABX9TyOZX7SgfvOns5jbeeEh6+iL",
   "collapsed_sections": [],
   "include_colab_link": true,
   "mount_file_id": "1GM2-1Ne0iqoFZ0fZXFOpH_qiYioAxSB8",
   "name": "upload-data-sqlite3-template.ipynb",
   "provenance": []
  },
  "kernelspec": {
   "display_name": "Python 3",
   "language": "python",
   "name": "python3"
  },
  "language_info": {
   "codemirror_mode": {
    "name": "ipython",
    "version": 3
   },
   "file_extension": ".py",
   "mimetype": "text/x-python",
   "name": "python",
   "nbconvert_exporter": "python",
   "pygments_lexer": "ipython3",
   "version": "3.9.1"
  }
 },
 "nbformat": 4,
 "nbformat_minor": 1
}
